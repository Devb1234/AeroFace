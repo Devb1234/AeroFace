{
 "cells": [
  {
   "cell_type": "code",
   "execution_count": 1,
   "id": "8215b936",
   "metadata": {},
   "outputs": [
    {
     "name": "stderr",
     "output_type": "stream",
     "text": [
<<<<<<< HEAD
      "2025-07-14 10:19:12.967432: I tensorflow/core/util/util.cc:169] oneDNN custom operations are on. You may see slightly different numerical results due to floating-point round-off errors from different computation orders. To turn them off, set the environment variable `TF_ENABLE_ONEDNN_OPTS=0`.\n",
      "2025-07-14 10:19:12.970419: W tensorflow/stream_executor/platform/default/dso_loader.cc:64] Could not load dynamic library 'libcudart.so.11.0'; dlerror: libcudart.so.11.0: cannot open shared object file: No such file or directory; LD_LIBRARY_PATH: /home/user2/.local/lib/python3.10/site-packages/cv2/../../lib64:\n",
      "2025-07-14 10:19:12.970431: I tensorflow/stream_executor/cuda/cudart_stub.cc:29] Ignore above cudart dlerror if you do not have a GPU set up on your machine.\n"
=======
      "2025-07-14 15:25:57.575107: I tensorflow/core/util/port.cc:110] oneDNN custom operations are on. You may see slightly different numerical results due to floating-point round-off errors from different computation orders. To turn them off, set the environment variable `TF_ENABLE_ONEDNN_OPTS=0`.\n",
      "2025-07-14 15:25:57.576409: I tensorflow/tsl/cuda/cudart_stub.cc:28] Could not find cuda drivers on your machine, GPU will not be used.\n",
      "2025-07-14 15:25:57.601762: I tensorflow/tsl/cuda/cudart_stub.cc:28] Could not find cuda drivers on your machine, GPU will not be used.\n",
      "2025-07-14 15:25:57.602339: I tensorflow/core/platform/cpu_feature_guard.cc:182] This TensorFlow binary is optimized to use available CPU instructions in performance-critical operations.\n",
      "To enable the following instructions: AVX2 AVX_VNNI FMA, in other operations, rebuild TensorFlow with the appropriate compiler flags.\n",
      "2025-07-14 15:25:58.018149: W tensorflow/compiler/tf2tensorrt/utils/py_utils.cc:38] TF-TRT Warning: Could not find TensorRT\n"
>>>>>>> 6f19a06 (Commit)
     ]
    }
   ],
   "source": [
    "from deepface import DeepFace\n",
    "import numpy as np\n",
    "import os\n",
    "import pickle\n",
    "from sklearn.neighbors import KNeighborsClassifier\n",
    "from tqdm import tqdm"
   ]
  },
  {
   "cell_type": "code",
   "execution_count": 2,
   "id": "cdc6f73c",
   "metadata": {},
   "outputs": [],
   "source": [
    "# Path to processed faces from Week 2\n",
    "input_dir = \"../data/processed_faces_mtcnn\"\n",
    "\n",
    "# Output path to save embeddings & classifier\n",
    "os.makedirs(\"../data/embeddings\", exist_ok=True)\n",
    "model_save_path = \"../data/embeddings/knn_classifier.pkl\""
   ]
  },
  {
   "cell_type": "code",
   "execution_count": 3,
   "id": "41ced491",
   "metadata": {},
   "outputs": [
    {
     "name": "stderr",
     "output_type": "stream",
     "text": [
<<<<<<< HEAD
      "Generating embeddings:   0%|          | 0/100 [00:00<?, ?it/s]2025-07-14 10:19:14.063032: W tensorflow/stream_executor/platform/default/dso_loader.cc:64] Could not load dynamic library 'libcuda.so.1'; dlerror: libcuda.so.1: cannot open shared object file: No such file or directory; LD_LIBRARY_PATH: /home/user2/.local/lib/python3.10/site-packages/cv2/../../lib64:\n",
      "2025-07-14 10:19:14.063084: W tensorflow/stream_executor/cuda/cuda_driver.cc:269] failed call to cuInit: UNKNOWN ERROR (303)\n",
      "2025-07-14 10:19:14.063108: I tensorflow/stream_executor/cuda/cuda_diagnostics.cc:156] kernel driver does not appear to be running on this host (ci): /proc/driver/nvidia/version does not exist\n",
      "2025-07-14 10:19:14.063458: I tensorflow/core/platform/cpu_feature_guard.cc:193] This TensorFlow binary is optimized with oneAPI Deep Neural Network Library (oneDNN) to use the following CPU instructions in performance-critical operations:  AVX2 AVX_VNNI FMA\n",
      "To enable them in other operations, rebuild TensorFlow with the appropriate compiler flags.\n",
      "Generating embeddings: 100%|██████████| 100/100 [00:10<00:00,  9.34it/s]\n"
=======
      "Generating embeddings: 100%|██████████| 100/100 [00:11<00:00,  8.41it/s]\n"
>>>>>>> 6f19a06 (Commit)
     ]
    }
   ],
   "source": [
    "# Initialize lists to store embeddings and labels\n",
    "embeddings = []\n",
    "labels = []\n",
    "\n",
    "# Loop through each person's folder\n",
    "person_dirs = [d for d in os.listdir(input_dir) if os.path.isdir(os.path.join(input_dir, d))]\n",
    "\n",
    "for person in tqdm(person_dirs, desc=\"Generating embeddings\"):\n",
    "    person_path = os.path.join(input_dir, person)\n",
    "    for img_name in os.listdir(person_path):\n",
    "        img_path = os.path.join(person_path, img_name)\n",
    "\n",
    "        try:\n",
    "            # Use DeepFace to extract embedding\n",
    "            embedding_obj = DeepFace.represent(img_path=img_path, model_name='Facenet', enforce_detection=False)\n",
    "            embedding = embedding_obj[0][\"embedding\"]\n",
    "            embeddings.append(embedding)\n",
    "            labels.append(person)\n",
    "        except Exception as e:\n",
    "            print(f\"❌ Error in {img_path}: {e}\")"
   ]
  },
  {
   "cell_type": "code",
   "execution_count": 4,
   "id": "d5530ecb",
   "metadata": {},
   "outputs": [
    {
     "name": "stdout",
     "output_type": "stream",
     "text": [
      "✅ Embeddings shape: (186, 128)\n",
      "✅ Labels shape: (186,)\n"
     ]
    }
   ],
   "source": [
    "# Convert to arrays\n",
    "X = np.array(embeddings)\n",
    "y = np.array(labels)\n",
    "\n",
    "print(\"✅ Embeddings shape:\", X.shape)\n",
    "print(\"✅ Labels shape:\", y.shape)"
   ]
  },
  {
   "cell_type": "code",
   "execution_count": 5,
   "id": "bc403967",
   "metadata": {},
   "outputs": [
    {
     "name": "stdout",
     "output_type": "stream",
     "text": [
      "✅ Classifier trained.\n"
     ]
    }
   ],
   "source": [
    "# Train a simple KNN classifier\n",
    "knn = KNeighborsClassifier(n_neighbors=3, metric='euclidean')\n",
    "knn.fit(X, y)\n",
    "\n",
    "print(\"✅ Classifier trained.\")"
   ]
  },
  {
   "cell_type": "code",
   "execution_count": 6,
   "id": "000cbea8",
   "metadata": {},
   "outputs": [
    {
     "name": "stdout",
     "output_type": "stream",
     "text": [
      "✅ Model saved at: ../data/embeddings/knn_classifier.pkl\n"
     ]
    }
   ],
   "source": [
    "# Save model to .pkl file\n",
    "with open(model_save_path, 'wb') as f:\n",
    "    pickle.dump((knn, X, y), f)\n",
    "\n",
    "print(f\"✅ Model saved at: {model_save_path}\")"
   ]
  }
 ],
 "metadata": {
  "kernelspec": {
   "display_name": "Python 3",
   "language": "python",
   "name": "python3"
  },
  "language_info": {
   "codemirror_mode": {
    "name": "ipython",
    "version": 3
   },
   "file_extension": ".py",
   "mimetype": "text/x-python",
   "name": "python",
   "nbconvert_exporter": "python",
   "pygments_lexer": "ipython3",
   "version": "3.10.0"
  }
 },
 "nbformat": 4,
 "nbformat_minor": 5
}
